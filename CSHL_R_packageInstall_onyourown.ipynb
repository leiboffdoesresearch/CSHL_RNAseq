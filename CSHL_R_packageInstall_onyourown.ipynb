{
 "cells": [
  {
   "cell_type": "code",
   "execution_count": 1,
   "metadata": {
    "collapsed": true
   },
   "outputs": [],
   "source": [
    "# package installation"
   ]
  },
  {
   "cell_type": "code",
   "execution_count": 2,
   "metadata": {},
   "outputs": [
    {
     "name": "stderr",
     "output_type": "stream",
     "text": [
      "installing the source package ‘BiocManager’\n",
      "\n",
      "Bioconductor version 3.6 (BiocManager 1.30.8), R 3.4.3 (2017-11-30)\n",
      "Installing package(s) 'BiocVersion', 'DESeq2'\n",
      "Warning message:\n",
      "“package ‘BiocVersion’ is not available (for R version 3.4.3)”Warning message:\n",
      "“unable to access index for repository https://bioconductor.org/packages/3.6/workflows/bin/macosx/el-capitan/contrib/3.4:\n",
      "  cannot open URL 'https://bioconductor.org/packages/3.6/workflows/bin/macosx/el-capitan/contrib/3.4/PACKAGES'”"
     ]
    },
    {
     "name": "stdout",
     "output_type": "stream",
     "text": [
      "\n",
      "The downloaded binary packages are in\n",
      "\t/var/folders/5g/8m48_y6j031cwg17tfnqtc1c0000gn/T//Rtmp6yn57M/downloaded_packages\n"
     ]
    },
    {
     "name": "stderr",
     "output_type": "stream",
     "text": [
      "Old packages: 'agricolae', 'animation', 'ape', 'backports', 'BH', 'biomartr',\n",
      "  'blob', 'bold', 'boot', 'broom', 'callr', 'caTools', 'checkmate', 'class',\n",
      "  'classInt', 'clipr', 'cluster', 'coda', 'codetools', 'covr', 'crul', 'curl',\n",
      "  'data.table', 'dbplyr', 'deldir', 'dendextend', 'deSolve', 'devtools',\n",
      "  'digest', 'doParallel', 'doSNOW', 'dplyr', 'dtplyr', 'dtw', 'e1071',\n",
      "  'evaluate', 'expm', 'fitdistrplus', 'flexmix', 'forcats', 'foreach',\n",
      "  'foreign', 'formatR', 'fpc', 'fs', 'gdtools', 'geiger', 'geometry',\n",
      "  'geomorph', 'ggpubr', 'ggrepel', 'ggsignif', 'git2r', 'gplots', 'haven',\n",
      "  'hexbin', 'highr', 'Hmisc', 'hms', 'hoardr', 'htmlTable', 'htmltools',\n",
      "  'htmlwidgets', 'httpuv', 'httr', 'igraph', 'IRkernel', 'irlba', 'iterators',\n",
      "  'jsonlite', 'KernSmooth', 'knitr', 'kohonen', 'labelled', 'lambda.r',\n",
      "  'later', 'maptools', 'markdown', 'MASS', 'Matrix', 'matrixStats', 'mclust',\n",
      "  'mgcv', 'mime', 'modelr', 'multcomp', 'natserv', 'ndtv', 'network',\n",
      "  'networkDynamic', 'nlme', 'openssl', 'pamr', 'permute', 'pheatmap', 'pillar',\n",
      "  'pkgbuild', 'pkgconfig', 'polspline', 'polyclip', 'polynom', 'prabclus',\n",
      "  'pROC', 'processx', 'progress', 'promises', 'proxy', 'ps', 'purrr', 'qtl',\n",
      "  'quantreg', 'R.utils', 'raster', 'rcmdcheck', 'Rcpp', 'RcppArmadillo',\n",
      "  'RCurl', 'readr', 'readxl', 'registry', 'remotes', 'rentrez', 'repr',\n",
      "  'reprex', 'rgeos', 'rgl', 'ritis', 'RJSONIO', 'rmarkdown', 'rms', 'RMySQL',\n",
      "  'rngtools', 'robust', 'robustbase', 'rotl', 'rpart', 'RRPP', 'rsconnect',\n",
      "  'RSQLite', 'rstudioapi', 'rvcheck', 'rvest', 'sandwich', 'segmented',\n",
      "  'seqinr', 'sf', 'shiny', 'solrium', 'SpatialPack', 'spatstat', 'spData',\n",
      "  'spdep', 'strucchange', 'survival', 'svglite', 'taxize', 'testthat',\n",
      "  'TH.data', 'tidyr', 'tinytex', 'units', 'urltools', 'usethis', 'vctrs',\n",
      "  'vegan', 'visNetwork', 'VSURF', 'WGCNA', 'whisker', 'worrms', 'xfun', 'XML',\n",
      "  'xml2', 'xtable', 'zoo'\n"
     ]
    }
   ],
   "source": [
    "#DESeq2\n",
    "\n",
    "if (!requireNamespace(\"BiocManager\", quietly = TRUE))\n",
    "    install.packages(\"BiocManager\")\n",
    "\n",
    "BiocManager::install(\"DESeq2\")"
   ]
  },
  {
   "cell_type": "code",
   "execution_count": 6,
   "metadata": {},
   "outputs": [
    {
     "name": "stdout",
     "output_type": "stream",
     "text": [
      "\n",
      "  There is a binary version available but the source version is later:\n",
      "        binary source needs_compilation\n",
      "ggplot2  3.1.0  3.2.1             FALSE\n",
      "\n",
      "\n",
      "The downloaded binary packages are in\n",
      "\t/var/folders/5g/8m48_y6j031cwg17tfnqtc1c0000gn/T//Rtmp6yn57M/downloaded_packages\n"
     ]
    },
    {
     "name": "stderr",
     "output_type": "stream",
     "text": [
      "installing the source package ‘ggplot2’\n",
      "\n"
     ]
    }
   ],
   "source": [
    "#ggplot2 venndiagram and pheatmap\n",
    "\n",
    "install.packages(c(\"ggplot2\", \"VennDiagram\", \"pheatmap\"))"
   ]
  },
  {
   "cell_type": "code",
   "execution_count": null,
   "metadata": {
    "collapsed": true
   },
   "outputs": [],
   "source": []
  }
 ],
 "metadata": {
  "kernelspec": {
   "display_name": "R",
   "language": "R",
   "name": "ir"
  },
  "language_info": {
   "codemirror_mode": "r",
   "file_extension": ".r",
   "mimetype": "text/x-r-source",
   "name": "R",
   "pygments_lexer": "r",
   "version": "3.4.3"
  }
 },
 "nbformat": 4,
 "nbformat_minor": 2
}
